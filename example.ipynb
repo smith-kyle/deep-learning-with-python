{
 "cells": [
  {
   "cell_type": "markdown",
   "metadata": {},
   "source": [
    "This is some markdown"
   ]
  },
  {
   "cell_type": "code",
   "execution_count": null,
   "metadata": {},
   "outputs": [],
   "source": [
    "import seaborn as sns\n",
    "import matplotlib.pyplot as plt\n",
    "\n",
    "# set a grey background\n",
    "sns.set(style='darkgrid')\n",
    "df = sns.load_dataset('iris')\n",
    "\n",
    "fig = sns.kdeplot(df['petal_length'], shade=True, color=\"y\")\n",
    "fig = sns.kdeplot(df['sepal_length'], shade=True, color=\"b\")\n",
    "\n",
    "plt.show()"
   ]
  },
  {
   "cell_type": "markdown",
   "metadata": {},
   "source": [
    "Different markdown"
   ]
  }
 ],
 "metadata": {
  "kernelspec": {
   "display_name": "Python 3.10.0 64-bit ('3.10.0')",
   "language": "python",
   "name": "python3"
  },
  "language_info": {
   "name": "python",
   "version": "3.10.0"
  },
  "orig_nbformat": 4,
  "vscode": {
   "interpreter": {
    "hash": "c52e9f2806fb659ea332fe3dd45d973543437deaf561a2df464a66ae73f5ca4c"
   }
  }
 },
 "nbformat": 4,
 "nbformat_minor": 2
}
