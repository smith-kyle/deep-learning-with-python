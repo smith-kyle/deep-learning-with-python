{
 "cells": [
  {
   "cell_type": "code",
   "execution_count": null,
   "metadata": {},
   "outputs": [],
   "source": []
  },
  {
   "cell_type": "code",
   "execution_count": null,
   "metadata": {},
   "outputs": [],
   "source": [
    "import seaborn as sns\n",
    "import matplotlib.pyplot as plt\n",
    "\n",
    "# set a grey background\n",
    "sns.set(style='darkgrid')\n",
    "df = sns.load_dataset('iris')\n",
    "\n",
    "fig = sns.kdeplot(df['petal_length'], shade=True, color=\"y\")\n",
    "fig = sns.kdeplot(df['sepal_length'], shade=True, color=\"g\")\n",
    "\n",
    "plt.show()"
   ]
  }
 ],
 "metadata": {
  "language_info": {
   "name": "python"
  },
  "orig_nbformat": 4
 },
 "nbformat": 4,
 "nbformat_minor": 2
}
